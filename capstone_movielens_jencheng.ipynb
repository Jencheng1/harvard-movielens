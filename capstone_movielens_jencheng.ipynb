{
  "nbformat": 4,
  "nbformat_minor": 0,
  "metadata": {
    "colab": {
      "provenance": [],
      "machine_shape": "hm",
      "gpuType": "T4"
    },
    "kernelspec": {
      "name": "ir",
      "display_name": "R"
    },
    "language_info": {
      "name": "R"
    },
    "accelerator": "GPU"
  },
  "cells": [
    {
      "cell_type": "code",
      "source": [
        "# Step 1: Install and Load Required Libraries\n",
        "if(!require(tidyverse)) install.packages(\"tidyverse\", repos = \"http://cran.us.r-project.org\")\n",
        "if(!require(caret)) install.packages(\"caret\", repos = \"http://cran.us.r-project.org\")\n",
        "\n",
        "library(tidyverse)\n",
        "library(caret)\n"
      ],
      "metadata": {
        "colab": {
          "base_uri": "https://localhost:8080/"
        },
        "id": "ucEk4CcGGxPd",
        "outputId": "a34a465f-a5f2-48d2-e736-28ff3e1be265"
      },
      "execution_count": null,
      "outputs": [
        {
          "output_type": "stream",
          "name": "stderr",
          "text": [
            "Loading required package: tidyverse\n",
            "\n",
            "── \u001b[1mAttaching core tidyverse packages\u001b[22m ──────────────────────── tidyverse 2.0.0 ──\n",
            "\u001b[32m✔\u001b[39m \u001b[34mdplyr    \u001b[39m 1.1.4     \u001b[32m✔\u001b[39m \u001b[34mreadr    \u001b[39m 2.1.5\n",
            "\u001b[32m✔\u001b[39m \u001b[34mforcats  \u001b[39m 1.0.0     \u001b[32m✔\u001b[39m \u001b[34mstringr  \u001b[39m 1.5.1\n",
            "\u001b[32m✔\u001b[39m \u001b[34mggplot2  \u001b[39m 3.5.1     \u001b[32m✔\u001b[39m \u001b[34mtibble   \u001b[39m 3.2.1\n",
            "\u001b[32m✔\u001b[39m \u001b[34mlubridate\u001b[39m 1.9.3     \u001b[32m✔\u001b[39m \u001b[34mtidyr    \u001b[39m 1.3.1\n",
            "\u001b[32m✔\u001b[39m \u001b[34mpurrr    \u001b[39m 1.0.2     \n",
            "── \u001b[1mConflicts\u001b[22m ────────────────────────────────────────── tidyverse_conflicts() ──\n",
            "\u001b[31m✖\u001b[39m \u001b[34mdplyr\u001b[39m::\u001b[32mfilter()\u001b[39m masks \u001b[34mstats\u001b[39m::filter()\n",
            "\u001b[31m✖\u001b[39m \u001b[34mdplyr\u001b[39m::\u001b[32mlag()\u001b[39m    masks \u001b[34mstats\u001b[39m::lag()\n",
            "\u001b[36mℹ\u001b[39m Use the conflicted package (\u001b[3m\u001b[34m<http://conflicted.r-lib.org/>\u001b[39m\u001b[23m) to force all conflicts to become errors\n",
            "Loading required package: caret\n",
            "\n",
            "Warning message in library(package, lib.loc = lib.loc, character.only = TRUE, logical.return = TRUE, :\n",
            "“there is no package called ‘caret’”\n",
            "Installing package into ‘/usr/local/lib/R/site-library’\n",
            "(as ‘lib’ is unspecified)\n",
            "\n",
            "also installing the dependencies ‘listenv’, ‘parallelly’, ‘future’, ‘globals’, ‘shape’, ‘future.apply’, ‘numDeriv’, ‘progressr’, ‘SQUAREM’, ‘diagram’, ‘lava’, ‘prodlim’, ‘proxy’, ‘iterators’, ‘clock’, ‘gower’, ‘hardhat’, ‘ipred’, ‘timeDate’, ‘e1071’, ‘foreach’, ‘ModelMetrics’, ‘plyr’, ‘pROC’, ‘recipes’, ‘reshape2’\n",
            "\n",
            "\n",
            "Loading required package: lattice\n",
            "\n",
            "\n",
            "Attaching package: ‘caret’\n",
            "\n",
            "\n",
            "The following object is masked from ‘package:purrr’:\n",
            "\n",
            "    lift\n",
            "\n",
            "\n"
          ]
        }
      ]
    },
    {
      "cell_type": "code",
      "source": [
        "# Step 2: Download the Movielens 10M Dataset\n",
        "options(timeout = 120)\n",
        "\n",
        "dl <- \"ml-10M100K.zip\"\n",
        "if (!file.exists(dl)) {\n",
        "  download.file(\"https://files.grouplens.org/datasets/movielens/ml-10m.zip\", dl)\n",
        "}\n"
      ],
      "metadata": {
        "id": "uYFfPceDGz0k"
      },
      "execution_count": 43,
      "outputs": []
    },
    {
      "cell_type": "code",
      "source": [
        "\n",
        "# Step 3: Unzip and Load the Data\n",
        "ratings_file <- \"ml-10M100K/ratings.dat\"\n",
        "if(!file.exists(ratings_file))\n",
        "  unzip(dl, ratings_file)\n",
        "\n",
        "movies_file <- \"ml-10M100K/movies.dat\"\n",
        "if(!file.exists(movies_file))\n",
        "  unzip(dl, movies_file)"
      ],
      "metadata": {
        "id": "bdY6SNkVHAWG"
      },
      "execution_count": 44,
      "outputs": []
    },
    {
      "cell_type": "code",
      "source": [
        "\n",
        "# Step 4: Read and Process the Ratings Data\n",
        "ratings <- as.data.frame(str_split(read_lines(ratings_file), fixed(\"::\"), simplify = TRUE),\n",
        "                         stringsAsFactors = FALSE)\n",
        "colnames(ratings) <- c(\"userId\", \"movieId\", \"rating\", \"timestamp\")\n",
        "ratings <- ratings %>%\n",
        "  mutate(userId = as.integer(userId),\n",
        "         movieId = as.integer(movieId),\n",
        "         rating = as.numeric(rating),\n",
        "         timestamp = as.integer(timestamp))\n"
      ],
      "metadata": {
        "id": "xElkR7hxHC-F"
      },
      "execution_count": 45,
      "outputs": []
    },
    {
      "cell_type": "code",
      "source": [
        "\n",
        "# Step 5: Read and Process the Movies Data\n",
        "movies <- as.data.frame(str_split(read_lines(movies_file), fixed(\"::\"), simplify = TRUE),\n",
        "                        stringsAsFactors = FALSE)\n",
        "colnames(movies) <- c(\"movieId\", \"title\", \"genres\")\n",
        "movies <- movies %>%\n",
        "  mutate(movieId = as.integer(movieId))\n",
        "\n",
        "\n",
        "# Step 6: Merge Ratings and Movies Data\n",
        "movielens <- left_join(ratings, movies, by = \"movieId\")\n"
      ],
      "metadata": {
        "id": "6Ucle525HFmy"
      },
      "execution_count": 46,
      "outputs": []
    },
    {
      "cell_type": "code",
      "execution_count": 47,
      "metadata": {
        "colab": {
          "base_uri": "https://localhost:8080/"
        },
        "id": "PvxepyuYGroR",
        "outputId": "273c4455-d771-4b36-d143-fcf4a6576259"
      },
      "outputs": [
        {
          "output_type": "stream",
          "name": "stderr",
          "text": [
            "Warning message in set.seed(1, sample.kind = \"Rounding\"):\n",
            "“non-uniform 'Rounding' sampler used”\n"
          ]
        }
      ],
      "source": [
        "\n",
        "\n",
        "# Step 7: Create `edx` and `final_holdout_test` Sets\n",
        "set.seed(1, sample.kind = \"Rounding\")  # Use sample.kind = \"Rounding\" for R 3.6 or later\n",
        "# set.seed(1)  # For R 3.5 or earlier\n",
        "\n",
        "# Split the data: 10% for final holdout test, 90% for edx\n",
        "test_index <- createDataPartition(y = movielens$rating, times = 1, p = 0.1, list = FALSE)\n",
        "edx <- movielens[-test_index, ]\n",
        "temp <- movielens[test_index, ]\n"
      ]
    },
    {
      "cell_type": "code",
      "source": [
        "\n",
        "# Ensure that userId and movieId in the final holdout set are also present in the edx set\n",
        "final_holdout_test <- temp %>%\n",
        "  semi_join(edx, by = \"movieId\") %>%\n",
        "  semi_join(edx, by = \"userId\")\n",
        "\n",
        "# Add back rows that were removed from final holdout test set to the edx set\n",
        "removed <- anti_join(temp, final_holdout_test)\n",
        "edx <- rbind(edx, removed)\n",
        "\n",
        "# Clean up\n",
        "rm(dl, ratings, movies, test_index, temp, movielens, removed)\n"
      ],
      "metadata": {
        "colab": {
          "base_uri": "https://localhost:8080/"
        },
        "id": "yh7lSCPYHKtp",
        "outputId": "8d824ddb-c0e1-4119-995e-6b1c709f03a3"
      },
      "execution_count": 48,
      "outputs": [
        {
          "output_type": "stream",
          "name": "stderr",
          "text": [
            "\u001b[1m\u001b[22mJoining with `by = join_by(userId, movieId, rating, timestamp, title, genres)`\n"
          ]
        }
      ]
    },
    {
      "cell_type": "code",
      "source": [
        "\n",
        "# Display Summary of `edx` and `final_holdout_test`\n",
        "cat(\"Number of rows in edx:\", nrow(edx), \"\\n\")\n",
        "cat(\"Number of rows in final_holdout_test:\", nrow(final_holdout_test), \"\\n\")\n",
        "cat(\"Number of unique users in edx:\", length(unique(edx$userId)), \"\\n\")\n",
        "cat(\"Number of unique movies in edx:\", length(unique(edx$movieId)), \"\\n\")\n",
        "cat(\"Number of unique users in final_holdout_test:\", length(unique(final_holdout_test$userId)), \"\\n\")\n",
        "cat(\"Number of unique movies in final_holdout_test:\", length(unique(final_holdout_test$movieId)), \"\\n\")\n",
        "\n",
        "# Preview the edx dataset\n",
        "#head(edx)\n",
        "glimpse(edx)"
      ],
      "metadata": {
        "colab": {
          "base_uri": "https://localhost:8080/"
        },
        "id": "K68HPRadHOlR",
        "outputId": "1c26319b-df83-4fd6-e730-997d4abccd7c"
      },
      "execution_count": 49,
      "outputs": [
        {
          "output_type": "stream",
          "name": "stdout",
          "text": [
            "Number of rows in edx: 9000055 \n",
            "Number of rows in final_holdout_test: 999999 \n",
            "Number of unique users in edx: 69878 \n",
            "Number of unique movies in edx: 10677 \n",
            "Number of unique users in final_holdout_test: 68534 \n",
            "Number of unique movies in final_holdout_test: 9809 \n",
            "Rows: 9,000,055\n",
            "Columns: 6\n",
            "$ userId    \u001b[3m\u001b[90m<int>\u001b[39m\u001b[23m 1, 1, 1, 1, 1, 1, 1, 1, 1, 1, 1, 1, 1, 1, 1, 1, 1, 1, 1, 2, …\n",
            "$ movieId   \u001b[3m\u001b[90m<int>\u001b[39m\u001b[23m 122, 185, 292, 316, 329, 355, 356, 362, 364, 370, 377, 420, …\n",
            "$ rating    \u001b[3m\u001b[90m<dbl>\u001b[39m\u001b[23m 5, 5, 5, 5, 5, 5, 5, 5, 5, 5, 5, 5, 5, 5, 5, 5, 5, 5, 5, 5, …\n",
            "$ timestamp \u001b[3m\u001b[90m<int>\u001b[39m\u001b[23m 838985046, 838983525, 838983421, 838983392, 838983392, 83898…\n",
            "$ title     \u001b[3m\u001b[90m<chr>\u001b[39m\u001b[23m \"Boomerang (1992)\", \"Net, The (1995)\", \"Outbreak (1995)\", \"S…\n",
            "$ genres    \u001b[3m\u001b[90m<chr>\u001b[39m\u001b[23m \"Comedy|Romance\", \"Action|Crime|Thriller\", \"Action|Drama|Sci…\n"
          ]
        }
      ]
    },
    {
      "cell_type": "code",
      "source": [
        "edx %>% summarize(unique_users = length(unique(userId)),\n",
        "                  unique_movies = length(unique(movieId)),\n",
        "                  unique_genres = length(unique(genres)))"
      ],
      "metadata": {
        "colab": {
          "base_uri": "https://localhost:8080/",
          "height": 130
        },
        "id": "chUtfFPDXFe8",
        "outputId": "1ebf7c12-19a7-4c99-f909-1cd46e108d9c"
      },
      "execution_count": 50,
      "outputs": [
        {
          "output_type": "display_data",
          "data": {
            "text/html": [
              "<table class=\"dataframe\">\n",
              "<caption>A data.frame: 1 × 3</caption>\n",
              "<thead>\n",
              "\t<tr><th scope=col>unique_users</th><th scope=col>unique_movies</th><th scope=col>unique_genres</th></tr>\n",
              "\t<tr><th scope=col>&lt;int&gt;</th><th scope=col>&lt;int&gt;</th><th scope=col>&lt;int&gt;</th></tr>\n",
              "</thead>\n",
              "<tbody>\n",
              "\t<tr><td>69878</td><td>10677</td><td>797</td></tr>\n",
              "</tbody>\n",
              "</table>\n"
            ],
            "text/markdown": "\nA data.frame: 1 × 3\n\n| unique_users &lt;int&gt; | unique_movies &lt;int&gt; | unique_genres &lt;int&gt; |\n|---|---|---|\n| 69878 | 10677 | 797 |\n\n",
            "text/latex": "A data.frame: 1 × 3\n\\begin{tabular}{lll}\n unique\\_users & unique\\_movies & unique\\_genres\\\\\n <int> & <int> & <int>\\\\\n\\hline\n\t 69878 & 10677 & 797\\\\\n\\end{tabular}\n",
            "text/plain": [
              "  unique_users unique_movies unique_genres\n",
              "1 69878        10677         797          "
            ]
          },
          "metadata": {}
        }
      ]
    },
    {
      "cell_type": "code",
      "source": [
        "#RATINGS\n",
        "ratings <- as.data.frame(str_split(read_lines(\"ml-10M100K/ratings.dat\"), fixed(\"::\"), simplify = TRUE), stringsAsFactors = FALSE)\n",
        "colnames(ratings) <- c(\"userId\", \"movieId\", \"rating\", \"timestamp\")\n",
        "ratings <- ratings %>%\n",
        "  mutate(userId = as.integer(userId),\n",
        "         movieId = as.integer(movieId),\n",
        "         rating = as.numeric(rating),\n",
        "         timestamp = as.integer(timestamp))\n",
        "\n",
        "# Plot 1: Histogram of Ratings Distribution\n",
        "ggplot(ratings, aes(x = rating)) +\n",
        "  geom_histogram(binwidth = 0.5, fill = \"skyblue\", color = \"black\") +\n",
        "  labs(title = \"Distribution of Movie Ratings\", x = \"Rating\", y = \"Count\") +\n",
        "  theme_minimal()\n"
      ],
      "metadata": {
        "colab": {
          "base_uri": "https://localhost:8080/",
          "height": 437
        },
        "id": "nD35D64ZXnJL",
        "outputId": "f5088361-7f20-40f6-e0ec-c30391163b41"
      },
      "execution_count": 51,
      "outputs": [
        {
          "output_type": "display_data",
          "data": {
            "text/plain": [
              "plot without title"
            ],
            "image/png": "[encoded data removed]"
          },
          "metadata": {
            "image/png": {
              "width": 420,
              "height": 420
            }
          }
        }
      ]
    },
    {
      "cell_type": "code",
      "source": [
        "# Calculate the number of ratings greater than or equal to 3\n",
        "rp <- edx %>% filter(rating >= 3)\n",
        "\n",
        "# Calculate the proportion of such ratings\n",
        "proportion <- nrow(rp) / nrow(edx)\n",
        "cat(\"Proportion of ratings >= 3:\", round(proportion, 4), \"\\n\")\n"
      ],
      "metadata": {
        "colab": {
          "base_uri": "https://localhost:8080/"
        },
        "id": "QKK3jaxYZSWB",
        "outputId": "4701fa8b-7c9c-4ecc-80ab-70276c019a69"
      },
      "execution_count": 52,
      "outputs": [
        {
          "output_type": "stream",
          "name": "stdout",
          "text": [
            "Proportion of ratings >= 3: 0.8242 \n"
          ]
        }
      ]
    },
    {
      "cell_type": "code",
      "source": [
        "#TIMESTAMP\n",
        "# Load required packages\n",
        "if (!require(lubridate)) install.packages(\"lubridate\", repos = \"http://cran.us.r-project.org\")\n",
        "library(lubridate)\n",
        "\n",
        "# Convert the timestamp to a readable date format and extract the year\n",
        "edx <- edx %>%\n",
        "  mutate(RatingDate = as.POSIXct(timestamp, origin = \"1970-01-01\"),\n",
        "         RatingYear = year(RatingDate))\n",
        "\n",
        "# Convert the timestamp in the validation_set to RatingDate and extract RatingYear\n",
        "validation_set <- validation_set %>%\n",
        "  mutate(RatingDate = as.POSIXct(timestamp, origin = \"1970-01-01\"),\n",
        "         RatingYear = year(RatingDate))\n",
        "\n",
        "# Preview the updated edx dataset\n",
        "cat(\"edx dataset preview:\\n\")\n",
        "head(edx)\n",
        "\n",
        "# Preview the updated validation_set dataset\n",
        "cat(\"\\nvalidation_set dataset preview:\\n\")\n",
        "head(validation_set)"
      ],
      "metadata": {
        "colab": {
          "base_uri": "https://localhost:8080/",
          "height": 906
        },
        "id": "K-nwQUEwZgaB",
        "outputId": "8d7f317f-101f-421c-a9a3-5e2b968be723"
      },
      "execution_count": 53,
      "outputs": [
        {
          "output_type": "stream",
          "name": "stdout",
          "text": [
            "edx dataset preview:\n"
          ]
        },
        {
          "output_type": "display_data",
          "data": {
            "text/html": [
              "<table class=\"dataframe\">\n",
              "<caption>A data.frame: 6 × 8</caption>\n",
              "<thead>\n",
              "\t<tr><th></th><th scope=col>userId</th><th scope=col>movieId</th><th scope=col>rating</th><th scope=col>timestamp</th><th scope=col>title</th><th scope=col>genres</th><th scope=col>RatingDate</th><th scope=col>RatingYear</th></tr>\n",
              "\t<tr><th></th><th scope=col>&lt;int&gt;</th><th scope=col>&lt;int&gt;</th><th scope=col>&lt;dbl&gt;</th><th scope=col>&lt;int&gt;</th><th scope=col>&lt;chr&gt;</th><th scope=col>&lt;chr&gt;</th><th scope=col>&lt;dttm&gt;</th><th scope=col>&lt;dbl&gt;</th></tr>\n",
              "</thead>\n",
              "<tbody>\n",
              "\t<tr><th scope=row>1</th><td>1</td><td>122</td><td>5</td><td>838985046</td><td>Boomerang (1992)             </td><td>Comedy|Romance               </td><td>1996-08-02 11:24:06</td><td>1996</td></tr>\n",
              "\t<tr><th scope=row>2</th><td>1</td><td>185</td><td>5</td><td>838983525</td><td>Net, The (1995)              </td><td>Action|Crime|Thriller        </td><td>1996-08-02 10:58:45</td><td>1996</td></tr>\n",
              "\t<tr><th scope=row>4</th><td>1</td><td>292</td><td>5</td><td>838983421</td><td>Outbreak (1995)              </td><td>Action|Drama|Sci-Fi|Thriller </td><td>1996-08-02 10:57:01</td><td>1996</td></tr>\n",
              "\t<tr><th scope=row>5</th><td>1</td><td>316</td><td>5</td><td>838983392</td><td>Stargate (1994)              </td><td>Action|Adventure|Sci-Fi      </td><td>1996-08-02 10:56:32</td><td>1996</td></tr>\n",
              "\t<tr><th scope=row>6</th><td>1</td><td>329</td><td>5</td><td>838983392</td><td>Star Trek: Generations (1994)</td><td>Action|Adventure|Drama|Sci-Fi</td><td>1996-08-02 10:56:32</td><td>1996</td></tr>\n",
              "\t<tr><th scope=row>7</th><td>1</td><td>355</td><td>5</td><td>838984474</td><td>Flintstones, The (1994)      </td><td>Children|Comedy|Fantasy      </td><td>1996-08-02 11:14:34</td><td>1996</td></tr>\n",
              "</tbody>\n",
              "</table>\n"
            ],
            "text/markdown": "\nA data.frame: 6 × 8\n\n| <!--/--> | userId &lt;int&gt; | movieId &lt;int&gt; | rating &lt;dbl&gt; | timestamp &lt;int&gt; | title &lt;chr&gt; | genres &lt;chr&gt; | RatingDate &lt;dttm&gt; | RatingYear &lt;dbl&gt; |\n|---|---|---|---|---|---|---|---|---|\n| 1 | 1 | 122 | 5 | 838985046 | Boomerang (1992)              | Comedy|Romance                | 1996-08-02 11:24:06 | 1996 |\n| 2 | 1 | 185 | 5 | 838983525 | Net, The (1995)               | Action|Crime|Thriller         | 1996-08-02 10:58:45 | 1996 |\n| 4 | 1 | 292 | 5 | 838983421 | Outbreak (1995)               | Action|Drama|Sci-Fi|Thriller  | 1996-08-02 10:57:01 | 1996 |\n| 5 | 1 | 316 | 5 | 838983392 | Stargate (1994)               | Action|Adventure|Sci-Fi       | 1996-08-02 10:56:32 | 1996 |\n| 6 | 1 | 329 | 5 | 838983392 | Star Trek: Generations (1994) | Action|Adventure|Drama|Sci-Fi | 1996-08-02 10:56:32 | 1996 |\n| 7 | 1 | 355 | 5 | 838984474 | Flintstones, The (1994)       | Children|Comedy|Fantasy       | 1996-08-02 11:14:34 | 1996 |\n\n",
            "text/latex": "A data.frame: 6 × 8\n\\begin{tabular}{r|llllllll}\n  & userId & movieId & rating & timestamp & title & genres & RatingDate & RatingYear\\\\\n  & <int> & <int> & <dbl> & <int> & <chr> & <chr> & <dttm> & <dbl>\\\\\n\\hline\n\t1 & 1 & 122 & 5 & 838985046 & Boomerang (1992)              & Comedy\\textbar{}Romance                & 1996-08-02 11:24:06 & 1996\\\\\n\t2 & 1 & 185 & 5 & 838983525 & Net, The (1995)               & Action\\textbar{}Crime\\textbar{}Thriller         & 1996-08-02 10:58:45 & 1996\\\\\n\t4 & 1 & 292 & 5 & 838983421 & Outbreak (1995)               & Action\\textbar{}Drama\\textbar{}Sci-Fi\\textbar{}Thriller  & 1996-08-02 10:57:01 & 1996\\\\\n\t5 & 1 & 316 & 5 & 838983392 & Stargate (1994)               & Action\\textbar{}Adventure\\textbar{}Sci-Fi       & 1996-08-02 10:56:32 & 1996\\\\\n\t6 & 1 & 329 & 5 & 838983392 & Star Trek: Generations (1994) & Action\\textbar{}Adventure\\textbar{}Drama\\textbar{}Sci-Fi & 1996-08-02 10:56:32 & 1996\\\\\n\t7 & 1 & 355 & 5 & 838984474 & Flintstones, The (1994)       & Children\\textbar{}Comedy\\textbar{}Fantasy       & 1996-08-02 11:14:34 & 1996\\\\\n\\end{tabular}\n",
            "text/plain": [
              "  userId movieId rating timestamp title                        \n",
              "1 1      122     5      838985046 Boomerang (1992)             \n",
              "2 1      185     5      838983525 Net, The (1995)              \n",
              "4 1      292     5      838983421 Outbreak (1995)              \n",
              "5 1      316     5      838983392 Stargate (1994)              \n",
              "6 1      329     5      838983392 Star Trek: Generations (1994)\n",
              "7 1      355     5      838984474 Flintstones, The (1994)      \n",
              "  genres                        RatingDate          RatingYear\n",
              "1 Comedy|Romance                1996-08-02 11:24:06 1996      \n",
              "2 Action|Crime|Thriller         1996-08-02 10:58:45 1996      \n",
              "4 Action|Drama|Sci-Fi|Thriller  1996-08-02 10:57:01 1996      \n",
              "5 Action|Adventure|Sci-Fi       1996-08-02 10:56:32 1996      \n",
              "6 Action|Adventure|Drama|Sci-Fi 1996-08-02 10:56:32 1996      \n",
              "7 Children|Comedy|Fantasy       1996-08-02 11:14:34 1996      "
            ]
          },
          "metadata": {}
        },
        {
          "output_type": "stream",
          "name": "stdout",
          "text": [
            "\n",
            "validation_set dataset preview:\n"
          ]
        },
        {
          "output_type": "display_data",
          "data": {
            "text/html": [
              "<table class=\"dataframe\">\n",
              "<caption>A data.frame: 6 × 8</caption>\n",
              "<thead>\n",
              "\t<tr><th></th><th scope=col>userId</th><th scope=col>movieId</th><th scope=col>rating</th><th scope=col>timestamp</th><th scope=col>title</th><th scope=col>genres</th><th scope=col>RatingDate</th><th scope=col>RatingYear</th></tr>\n",
              "\t<tr><th></th><th scope=col>&lt;int&gt;</th><th scope=col>&lt;int&gt;</th><th scope=col>&lt;dbl&gt;</th><th scope=col>&lt;int&gt;</th><th scope=col>&lt;chr&gt;</th><th scope=col>&lt;chr&gt;</th><th scope=col>&lt;dttm&gt;</th><th scope=col>&lt;dbl&gt;</th></tr>\n",
              "</thead>\n",
              "<tbody>\n",
              "\t<tr><th scope=row>1</th><td>1</td><td> 122</td><td>5</td><td> 838985046</td><td>Boomerang (1992)                    </td><td>Comedy|Romance                   </td><td>1996-08-02 11:24:06</td><td>1996</td></tr>\n",
              "\t<tr><th scope=row>17</th><td>1</td><td> 539</td><td>5</td><td> 838984068</td><td>Sleepless in Seattle (1993)         </td><td>Comedy|Drama|Romance             </td><td>1996-08-02 11:07:48</td><td>1996</td></tr>\n",
              "\t<tr><th scope=row>29</th><td>2</td><td> 648</td><td>2</td><td> 868244699</td><td>Mission: Impossible (1996)          </td><td>Action|Adventure|Mystery|Thriller</td><td>1997-07-07 03:04:59</td><td>1997</td></tr>\n",
              "\t<tr><th scope=row>31</th><td>2</td><td> 733</td><td>3</td><td> 868244562</td><td>Rock, The (1996)                    </td><td>Action|Adventure|Thriller        </td><td>1997-07-07 03:02:42</td><td>1997</td></tr>\n",
              "\t<tr><th scope=row>33</th><td>2</td><td> 780</td><td>3</td><td> 868244698</td><td>Independence Day (a.k.a. ID4) (1996)</td><td>Action|Adventure|Sci-Fi|War      </td><td>1997-07-07 03:04:58</td><td>1997</td></tr>\n",
              "\t<tr><th scope=row>48</th><td>3</td><td>1246</td><td>4</td><td>1133570967</td><td>Dead Poets Society (1989)           </td><td>Drama                            </td><td>2005-12-03 00:49:27</td><td>2005</td></tr>\n",
              "</tbody>\n",
              "</table>\n"
            ],
            "text/markdown": "\nA data.frame: 6 × 8\n\n| <!--/--> | userId &lt;int&gt; | movieId &lt;int&gt; | rating &lt;dbl&gt; | timestamp &lt;int&gt; | title &lt;chr&gt; | genres &lt;chr&gt; | RatingDate &lt;dttm&gt; | RatingYear &lt;dbl&gt; |\n|---|---|---|---|---|---|---|---|---|\n| 1 | 1 |  122 | 5 |  838985046 | Boomerang (1992)                     | Comedy|Romance                    | 1996-08-02 11:24:06 | 1996 |\n| 17 | 1 |  539 | 5 |  838984068 | Sleepless in Seattle (1993)          | Comedy|Drama|Romance              | 1996-08-02 11:07:48 | 1996 |\n| 29 | 2 |  648 | 2 |  868244699 | Mission: Impossible (1996)           | Action|Adventure|Mystery|Thriller | 1997-07-07 03:04:59 | 1997 |\n| 31 | 2 |  733 | 3 |  868244562 | Rock, The (1996)                     | Action|Adventure|Thriller         | 1997-07-07 03:02:42 | 1997 |\n| 33 | 2 |  780 | 3 |  868244698 | Independence Day (a.k.a. ID4) (1996) | Action|Adventure|Sci-Fi|War       | 1997-07-07 03:04:58 | 1997 |\n| 48 | 3 | 1246 | 4 | 1133570967 | Dead Poets Society (1989)            | Drama                             | 2005-12-03 00:49:27 | 2005 |\n\n",
            "text/latex": "A data.frame: 6 × 8\n\\begin{tabular}{r|llllllll}\n  & userId & movieId & rating & timestamp & title & genres & RatingDate & RatingYear\\\\\n  & <int> & <int> & <dbl> & <int> & <chr> & <chr> & <dttm> & <dbl>\\\\\n\\hline\n\t1 & 1 &  122 & 5 &  838985046 & Boomerang (1992)                     & Comedy\\textbar{}Romance                    & 1996-08-02 11:24:06 & 1996\\\\\n\t17 & 1 &  539 & 5 &  838984068 & Sleepless in Seattle (1993)          & Comedy\\textbar{}Drama\\textbar{}Romance              & 1996-08-02 11:07:48 & 1996\\\\\n\t29 & 2 &  648 & 2 &  868244699 & Mission: Impossible (1996)           & Action\\textbar{}Adventure\\textbar{}Mystery\\textbar{}Thriller & 1997-07-07 03:04:59 & 1997\\\\\n\t31 & 2 &  733 & 3 &  868244562 & Rock, The (1996)                     & Action\\textbar{}Adventure\\textbar{}Thriller         & 1997-07-07 03:02:42 & 1997\\\\\n\t33 & 2 &  780 & 3 &  868244698 & Independence Day (a.k.a. ID4) (1996) & Action\\textbar{}Adventure\\textbar{}Sci-Fi\\textbar{}War       & 1997-07-07 03:04:58 & 1997\\\\\n\t48 & 3 & 1246 & 4 & 1133570967 & Dead Poets Society (1989)            & Drama                             & 2005-12-03 00:49:27 & 2005\\\\\n\\end{tabular}\n",
            "text/plain": [
              "   userId movieId rating timestamp  title                               \n",
              "1  1       122    5       838985046 Boomerang (1992)                    \n",
              "17 1       539    5       838984068 Sleepless in Seattle (1993)         \n",
              "29 2       648    2       868244699 Mission: Impossible (1996)          \n",
              "31 2       733    3       868244562 Rock, The (1996)                    \n",
              "33 2       780    3       868244698 Independence Day (a.k.a. ID4) (1996)\n",
              "48 3      1246    4      1133570967 Dead Poets Society (1989)           \n",
              "   genres                            RatingDate          RatingYear\n",
              "1  Comedy|Romance                    1996-08-02 11:24:06 1996      \n",
              "17 Comedy|Drama|Romance              1996-08-02 11:07:48 1996      \n",
              "29 Action|Adventure|Mystery|Thriller 1997-07-07 03:04:59 1997      \n",
              "31 Action|Adventure|Thriller         1997-07-07 03:02:42 1997      \n",
              "33 Action|Adventure|Sci-Fi|War       1997-07-07 03:04:58 1997      \n",
              "48 Drama                             2005-12-03 00:49:27 2005      "
            ]
          },
          "metadata": {}
        }
      ]
    },
    {
      "cell_type": "code",
      "source": [
        "range(edx$RatingYear)"
      ],
      "metadata": {
        "colab": {
          "base_uri": "https://localhost:8080/",
          "height": 34
        },
        "id": "7D9vPk87aoDt",
        "outputId": "bc3d1509-5570-4f6f-8f99-3cddcb7ea406"
      },
      "execution_count": 54,
      "outputs": [
        {
          "output_type": "display_data",
          "data": {
            "text/html": [
              "<style>\n",
              ".list-inline {list-style: none; margin:0; padding: 0}\n",
              ".list-inline>li {display: inline-block}\n",
              ".list-inline>li:not(:last-child)::after {content: \"\\00b7\"; padding: 0 .5ex}\n",
              "</style>\n",
              "<ol class=list-inline><li>1995</li><li>2009</li></ol>\n"
            ],
            "text/markdown": "1. 1995\n2. 2009\n\n\n",
            "text/latex": "\\begin{enumerate*}\n\\item 1995\n\\item 2009\n\\end{enumerate*}\n",
            "text/plain": [
              "[1] 1995 2009"
            ]
          },
          "metadata": {}
        }
      ]
    },
    {
      "cell_type": "code",
      "source": [
        "edx$RatingYear <-as.numeric(edx$RatingYear)\n",
        "str(edx)\n",
        "\n",
        "\n",
        "# Plot the histogram of RatingYear\n",
        "ggplot(edx, aes(x = RatingYear)) +\n",
        "  geom_histogram(binwidth = 1, fill = \"skyblue\", color = \"black\") +\n",
        "  labs(title = \"Distribution of Ratings by Year\", x = \"Year\", y = \"Number of Ratings\") +\n",
        "  theme_minimal()"
      ],
      "metadata": {
        "colab": {
          "base_uri": "https://localhost:8080/",
          "height": 613
        },
        "id": "VBCNgXQYb2c3",
        "outputId": "b5f983f2-9d0a-4cd3-9d91-5b41f15c9975"
      },
      "execution_count": 55,
      "outputs": [
        {
          "output_type": "stream",
          "name": "stdout",
          "text": [
            "'data.frame':\t9000055 obs. of  8 variables:\n",
            " $ userId    : int  1 1 1 1 1 1 1 1 1 1 ...\n",
            " $ movieId   : int  122 185 292 316 329 355 356 362 364 370 ...\n",
            " $ rating    : num  5 5 5 5 5 5 5 5 5 5 ...\n",
            " $ timestamp : int  838985046 838983525 838983421 838983392 838983392 838984474 838983653 838984885 838983707 838984596 ...\n",
            " $ title     : chr  \"Boomerang (1992)\" \"Net, The (1995)\" \"Outbreak (1995)\" \"Stargate (1994)\" ...\n",
            " $ genres    : chr  \"Comedy|Romance\" \"Action|Crime|Thriller\" \"Action|Drama|Sci-Fi|Thriller\" \"Action|Adventure|Sci-Fi\" ...\n",
            " $ RatingDate: POSIXct, format: \"1996-08-02 11:24:06\" \"1996-08-02 10:58:45\" ...\n",
            " $ RatingYear: num  1996 1996 1996 1996 1996 ...\n"
          ]
        },
        {
          "output_type": "display_data",
          "data": {
            "text/plain": [
              "plot without title"
            ],
            "image/png": "[encoded data removed]"
          },
          "metadata": {
            "image/png": {
              "width": 420,
              "height": 420
            }
          }
        }
      ]
    },
    {
      "cell_type": "code",
      "source": [
        "#GENRES\n",
        "\n",
        "# Separate rows with multiple genres into individual rows for each genre\n",
        "edx_genres <- edx %>%\n",
        "  separate_rows(genres, sep = \"\\\\|\")  # Split genres by the '|' delimiter\n",
        "\n",
        "# Summarize the total number of ratings and average rating for each genre\n",
        "genre_summary <- edx_genres %>%\n",
        "  group_by(genres) %>%\n",
        "  summarize(\n",
        "    Ratings_Sum = n(),\n",
        "    Average_Rating = mean(rating, na.rm = TRUE),\n",
        "    .groups = 'drop'\n",
        "  ) %>%\n",
        "  arrange(desc(Ratings_Sum))\n",
        "\n",
        "\n",
        "# Plot the results using a bar chart\n",
        "library(ggplot2)\n",
        "ggplot(genre_summary, aes(x = reorder(genres, -Ratings_Sum), y = Ratings_Sum)) +\n",
        "  geom_bar(stat = \"identity\", fill = \"skyblue\") +\n",
        "  coord_flip() +\n",
        "  labs(\n",
        "    title = \"Total Number of Ratings per Genre\",\n",
        "    x = \"Genre\",\n",
        "    y = \"Number of Ratings\"\n",
        "  ) +\n",
        "  theme_minimal()\n"
      ],
      "metadata": {
        "id": "6x72GU7zdvaB",
        "colab": {
          "base_uri": "https://localhost:8080/",
          "height": 437
        },
        "outputId": "3426c346-efcd-4ad1-d80d-45a0de1d8721"
      },
      "execution_count": 57,
      "outputs": [
        {
          "output_type": "display_data",
          "data": {
            "text/plain": [
              "plot without title"
            ],
            "image/png": "[encoded data removed]"
          },
          "metadata": {
            "image/png": {
              "width": 420,
              "height": 420
            }
          }
        }
      ]
    },
    {
      "cell_type": "code",
      "source": [
        "# Load required libraries\n",
        "if (!require(tidyverse)) install.packages(\"tidyverse\", repos = \"http://cran.us.r-project.org\")\n",
        "library(tidyverse)\n",
        "\n",
        "# Calculate Ratings Sum and Average Rating per Genre, then sort by Average Rating\n",
        "genre_summary <- edx_genres %>%\n",
        "  group_by(genres) %>%\n",
        "  summarize(\n",
        "    Ratings_Sum = n(),\n",
        "    Average_Rating = mean(rating, na.rm = TRUE),  # Calculate the average rating\n",
        "    .groups = 'drop'\n",
        "  ) %>%\n",
        "  arrange(desc(Average_Rating))  # Arrange by Average Rating in descending order\n",
        "\n",
        "\n",
        "# Plot the genres by average rating using a bar chart\n",
        "library(ggplot2)\n",
        "ggplot(genre_summary, aes(x = reorder(genres, Average_Rating), y = Average_Rating)) +\n",
        "  geom_bar(stat = \"identity\", fill = \"lightgreen\") +\n",
        "  coord_flip() +\n",
        "  labs(\n",
        "    title = \"Average Rating by Genre\",\n",
        "    x = \"Genre\",\n",
        "    y = \"Average Rating\"\n",
        "  ) +\n",
        "  theme_minimal()\n"
      ],
      "metadata": {
        "colab": {
          "base_uri": "https://localhost:8080/",
          "height": 437
        },
        "id": "eCYb2eztfRQg",
        "outputId": "7048b1e8-1968-430e-be13-27493bb26a10"
      },
      "execution_count": 59,
      "outputs": [
        {
          "output_type": "display_data",
          "data": {
            "text/plain": [
              "plot without title"
            ],
            "image/png": "[encoded data removed]"
          },
          "metadata": {
            "image/png": {
              "width": 420,
              "height": 420
            }
          }
        }
      ]
    },
    {
      "cell_type": "code",
      "source": [
        "#MOVIES\n",
        "\n",
        "# Calculate the number of ratings for each movie\n",
        "top_movies <- edx %>%\n",
        "  group_by(movieId, title) %>%\n",
        "  summarize(num_ratings = n()) %>%\n",
        "  arrange(desc(num_ratings)) %>%\n",
        "  slice_head(n = 50)  # Select the top 50 movies\n",
        "\n",
        "# Display the top 50 movies in a table\n",
        "top_movies %>%\n",
        "  col.names = c(\"Movie ID\", \"Title\", \"Number of Ratings\")\n",
        "\n",
        "# Plot the top 50 movies using a bar chart\n",
        "ggplot(top_movies, aes(x = reorder(title, -num_ratings), y = num_ratings)) +\n",
        "  geom_bar(stat = \"identity\", fill = \"skyblue\") +\n",
        "  coord_flip() +  # Flip the axes for better readability\n",
        "  labs(title = \"Top 50 Most-Rated Movies\", x = \"Movie Title\", y = \"Number of Ratings\") +\n",
        "  theme_minimal()"
      ],
      "metadata": {
        "colab": {
          "base_uri": "https://localhost:8080/",
          "height": 124
        },
        "id": "PGPb5TcxdDAI",
        "outputId": "2e01f722-6ae9-4b0d-bf21-cc7220995ac5"
      },
      "execution_count": 58,
      "outputs": [
        {
          "output_type": "stream",
          "name": "stderr",
          "text": [
            "\u001b[1m\u001b[22m`summarise()` has grouped output by 'movieId'. You can override using the\n",
            "`.groups` argument.\n"
          ]
        },
        {
          "output_type": "error",
          "ename": "ERROR",
          "evalue": "Error in top_movies %>% col.names = c(\"Movie ID\", \"Title\", \"Number of Ratings\"): could not find function \"%>%<-\"\n",
          "traceback": [
            "Error in top_movies %>% col.names = c(\"Movie ID\", \"Title\", \"Number of Ratings\"): could not find function \"%>%<-\"\nTraceback:\n"
          ]
        }
      ]
    },
    {
      "cell_type": "code",
      "source": [],
      "metadata": {
        "id": "2jhoY0uZfNif"
      },
      "execution_count": null,
      "outputs": []
    },
    {
      "cell_type": "code",
      "source": [
        "# Install and load necessary packages\n",
        "if (!require(\"stringr\")) install.packages(\"stringr\")\n",
        "if (!require(\"dplyr\")) install.packages(\"dplyr\")\n",
        "library(stringr)\n",
        "library(dplyr)\n",
        "\n",
        "# Feature Engineering: Extract Year from Movie Title\n",
        "edx <- edx %>%\n",
        "  mutate(release_year = as.numeric(str_extract(title, \"\\\\(\\\\d{4}\\\\)\"))) %>%\n",
        "  # Handle NAs introduced during year extraction\n",
        "  mutate(release_year = ifelse(is.na(release_year), 0, release_year)) # Replace NAs with 0\n",
        "\n",
        "# Generate a table summarizing the most frequent years of movie releases\n",
        "year_summary <- edx %>%\n",
        "  count(release_year) %>%\n",
        "  arrange(desc(n)) %>%\n",
        "  head(10)\n",
        "\n",
        "# Display the table\n",
        "# Use colnames() to assign new column names\n",
        "colnames(year_summary) <- c(\"Release Year\", \"Number of Movies\")\n",
        "print(year_summary)\n",
        "\n",
        "# Insights: Top 10 most frequent movie release years\n",
        "cat(\"Insight: The top 10 most frequent years of movie releases indicate popular eras of filmmaking.\")"
      ],
      "metadata": {
        "colab": {
          "base_uri": "https://localhost:8080/"
        },
        "id": "OvvR5lvwPNSS",
        "outputId": "e8b2444a-be53-4e02-c4bd-f25f92e0445e"
      },
      "execution_count": null,
      "outputs": [
        {
          "output_type": "stream",
          "name": "stderr",
          "text": [
            "Warning message:\n",
            "“\u001b[1m\u001b[22mThere was 1 warning in `mutate()`.\n",
            "\u001b[1m\u001b[22m\u001b[36mℹ\u001b[39m In argument: `release_year = as.numeric(str_extract(title, \"\\\\(\\\\d{4}\\\\)\"))`.\n",
            "Caused by warning:\n",
            "\u001b[33m!\u001b[39m NAs introduced by coercion”\n"
          ]
        },
        {
          "output_type": "stream",
          "name": "stdout",
          "text": [
            "  Release Year Number of Movies\n",
            "1            0          9000055\n",
            "Insight: The top 10 most frequent years of movie releases indicate popular eras of filmmaking."
          ]
        }
      ]
    },
    {
      "cell_type": "code",
      "source": [
        "# Split edx Data into Training and Validation Sets\n",
        "set.seed(1, sample.kind = \"Rounding\")\n",
        "index <- createDataPartition(edx$rating, p = 0.8, list = FALSE)\n",
        "train_set <- edx[index, ]\n",
        "validation_set <- edx[-index, ]\n"
      ],
      "metadata": {
        "colab": {
          "base_uri": "https://localhost:8080/"
        },
        "id": "Mkw37dtDLd7N",
        "outputId": "866184df-84f1-4933-ef94-241715500bac"
      },
      "execution_count": null,
      "outputs": [
        {
          "output_type": "stream",
          "name": "stderr",
          "text": [
            "Warning message in set.seed(1, sample.kind = \"Rounding\"):\n",
            "“non-uniform 'Rounding' sampler used”\n"
          ]
        }
      ]
    },
    {
      "cell_type": "code",
      "source": [
        "# Summary of Training and Validation Sets\n",
        "training_summary <- data.frame(\n",
        "  Set = c(\"Training\", \"Validation\"),\n",
        "  Rows = c(nrow(train_set), nrow(validation_set)),\n",
        "  Unique_Users = c(length(unique(train_set$userId)), length(unique(validation_set$userId))),\n",
        "  Unique_Movies = c(length(unique(train_set$movieId)), length(unique(validation_set$movieId)))\n",
        ")\n",
        "\n",
        "# Display the table\n",
        "print(training_summary)\n"
      ],
      "metadata": {
        "colab": {
          "base_uri": "https://localhost:8080/"
        },
        "id": "niNfeuLuSO75",
        "outputId": "0bc625c2-cddc-42e8-d550-92a80854a925"
      },
      "execution_count": null,
      "outputs": [
        {
          "output_type": "stream",
          "name": "stdout",
          "text": [
            "         Set    Rows Unique_Users Unique_Movies\n",
            "1   Training 7200045        69878         10647\n",
            "2 Validation 1800010        69739         10191\n"
          ]
        }
      ]
    },
    {
      "cell_type": "code",
      "source": [
        "# Train Models on Training Set\n",
        "\n",
        "mean_rating <- mean(train_set$rating)\n",
        "baseline_rmse <- sqrt(mean((validation_set$rating - mean_rating)^2))\n",
        "cat(\"Baseline RMSE:\", baseline_rmse)\n",
        "\n",
        "cat(\"\\nThe baseline model achieved an RMSE of\", round(baseline_rmse, 4),\n",
        "    \", which serves as a benchmark for evaluating more complex models.\")"
      ],
      "metadata": {
        "colab": {
          "base_uri": "https://localhost:8080/"
        },
        "id": "_Rk--wMULePg",
        "outputId": "2f513b89-a994-4ff9-b21a-7036691b7dcd"
      },
      "execution_count": null,
      "outputs": [
        {
          "output_type": "stream",
          "name": "stdout",
          "text": [
            "Baseline RMSE: 1.059733\n",
            "The baseline model achieved an RMSE of 1.0597 , which serves as a benchmark for evaluating more complex models."
          ]
        }
      ]
    },
    {
      "cell_type": "code",
      "source": [
        "\n",
        "# Regularized Movie + User Effects Model with Cross-Validation\n",
        "lambdas <- seq(4, 6, 0.1)\n",
        "rmses <- sapply(lambdas, function(lambda) {\n",
        "\n",
        "  # Calculate movie effects (b_i)\n",
        "  movie_avgs <- train_set %>%\n",
        "    group_by(movieId) %>%\n",
        "    summarize(b_i = sum(rating - mean_rating) / (n() + lambda))\n",
        "\n",
        "  # Calculate user effects (b_u)\n",
        "  user_avgs <- train_set %>%\n",
        "    left_join(movie_avgs, by = \"movieId\") %>%\n",
        "    group_by(userId) %>%\n",
        "    summarize(b_u = sum(rating - mean_rating - b_i) / (n() + lambda))\n",
        "\n",
        "  # Predict ratings on the validation set\n",
        "  predictions <- validation_set %>%\n",
        "    left_join(movie_avgs, by = \"movieId\") %>%\n",
        "    left_join(user_avgs, by = \"userId\") %>%\n",
        "    mutate(pred = mean_rating + b_i + b_u) %>%\n",
        "    pull(pred)\n",
        "\n",
        "  return(sqrt(mean((validation_set$rating - predictions)^2)))\n",
        "})\n",
        "\n"
      ],
      "metadata": {
        "id": "wnybP9TNLedS"
      },
      "execution_count": null,
      "outputs": []
    },
    {
      "cell_type": "code",
      "source": [
        "#Final Model Evaluation on final_holdout_test\n",
        "\n",
        "\n",
        "# Train the final model on the entire edx dataset\n",
        "mean_rating <- mean(edx$rating)\n",
        "\n",
        "movie_avgs <- edx %>%\n",
        "  group_by(movieId) %>%\n",
        "  summarize(b_i = sum(rating - mean_rating) / (n() + lambda))\n",
        "\n",
        "user_avgs <- edx %>%\n",
        "  left_join(movie_avgs, by = \"movieId\") %>%\n",
        "  group_by(userId) %>%\n",
        "  summarize(b_u = sum(rating - mean_rating - b_i) / (n() + lambda))\n",
        "\n",
        "# Predict on the final_holdout_test set\n",
        "final_predictions <- final_holdout_test %>%\n",
        "  left_join(movie_avgs, by = \"movieId\") %>%\n",
        "  left_join(user_avgs, by = \"userId\") %>%\n",
        "  mutate(pred = mean_rating + b_i + b_u) %>%\n",
        "  pull(pred)\n",
        "\n",
        "final_rmse <- sqrt(mean((final_holdout_test$rating - final_predictions)^2))\n",
        "cat(\"Final RMSE on holdout test set:\", final_rmse)\n"
      ],
      "metadata": {
        "colab": {
          "base_uri": "https://localhost:8080/"
        },
        "id": "_jnNJmxqLesZ",
        "outputId": "f6af0e64-b95a-4ffb-f0e0-aaaeaf53debd"
      },
      "execution_count": null,
      "outputs": [
        {
          "output_type": "stream",
          "name": "stdout",
          "text": [
            "Final RMSE on holdout test set: 0.8648177"
          ]
        }
      ]
    },
    {
      "cell_type": "code",
      "source": [
        "cat(\"The final model achieved an RMSE of\", round(final_rmse, 4),\n",
        "    \"on the final holdout test set, indicating good generalization performance.\")"
      ],
      "metadata": {
        "colab": {
          "base_uri": "https://localhost:8080/"
        },
        "id": "QgUsNO4FLe61",
        "outputId": "249d0681-f5cb-40a7-ead9-43d8652e3ab0"
      },
      "execution_count": null,
      "outputs": [
        {
          "output_type": "stream",
          "name": "stdout",
          "text": [
            "The final model achieved an RMSE of 0.8648 on the final holdout test set, indicating good generalization performance."
          ]
        }
      ]
    }
  ]
}